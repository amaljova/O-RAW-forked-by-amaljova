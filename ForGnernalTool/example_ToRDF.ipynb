{
 "cells": [
  {
   "cell_type": "markdown",
   "metadata": {},
   "source": [
    "# This Jupyter Notebook provides an example that converts Radiomic features to RDF with ontology.\n",
    "## The main module is ORAW2RDFUniversal\n",
    "## Users are required to fill in 1) computation setting file, 2) feature table, 3) ORAW_RO_Table"
   ]
  },
  {
   "cell_type": "code",
   "execution_count": 4,
   "metadata": {},
   "outputs": [],
   "source": [
    "import pandas as pd\n",
    "import os,yaml,logging\n",
    "from ast import literal_eval\n",
    "import ORAW2RDFUniversal # module to convert radiomics features to RDF\n",
    "import logging\n",
    "from rdflib import Graph"
   ]
  },
  {
   "cell_type": "code",
   "execution_count": 5,
   "metadata": {},
   "outputs": [],
   "source": [
    "exportDir = r'./RF_RDF'\n",
    "featuretable = r'./ORAW_FeatureTable'\n",
    "ROtable = r'./ORAW_RO_Table.csv'\n",
    "ORAW_FeatureTable = pd.read_csv('./ORAW_FeatureTable.csv')\n",
    "with open(os.path.join(os.getcwd(),'ORAW_UniversalTemplate.yaml'), 'r') as data:\n",
    "    try:\n",
    "        Utemplate = yaml.safe_load(data)\n",
    "    except yaml.YAMLError as exc:\n",
    "        print(exc)\n",
    "ROI = Utemplate['ROISegmentation']['ROIType']"
   ]
  },
  {
   "cell_type": "code",
   "execution_count": 6,
   "metadata": {},
   "outputs": [
    {
     "name": "stdout",
     "output_type": "stream",
     "text": [
      "-----------------------------\n",
      "Converting LUNG1-001, 1.1, GTVp\n",
      "-----------------------------\n",
      "Converting LUNG1-002, 1.2, GTVp\n",
      "-----------------------------\n",
      "Converting LUNG1-003, 1.3, GTVp\n",
      "-----------------------------\n",
      "Converting LUNG1-004, 1.4, GTVp\n"
     ]
    }
   ],
   "source": [
    "for i in range(len(ORAW_FeatureTable)):\n",
    "    patientID = str(ORAW_FeatureTable['patient'][i])\n",
    "    myStructUID = str(ORAW_FeatureTable['StructUID'][i]) # no patient id, structure uid\n",
    "    featuretable = ORAW_FeatureTable.drop(columns=['patient','StructUID'],axis=1)\n",
    "    print('-----------------------------')\n",
    "    print('Converting %s, %s, %s'% (patientID,myStructUID,ROI))\n",
    "    featuretable = featuretable.iloc[0,:]    \n",
    "    graph = Pyrex2RDFUniversal.RadiomicsRDF(patientID,myStructUID,featuretable)\n",
    "    graph.serialize(exportDir + os.sep + patientID+ '_' + myStructUID +\".ttl\", format='turtle')"
   ]
  },
  {
   "cell_type": "code",
   "execution_count": null,
   "metadata": {},
   "outputs": [],
   "source": []
  }
 ],
 "metadata": {
  "kernelspec": {
   "display_name": "Python 3",
   "language": "python",
   "name": "python3"
  },
  "language_info": {
   "codemirror_mode": {
    "name": "ipython",
    "version": 3
   },
   "file_extension": ".py",
   "mimetype": "text/x-python",
   "name": "python",
   "nbconvert_exporter": "python",
   "pygments_lexer": "ipython3",
   "version": "3.7.3"
  }
 },
 "nbformat": 4,
 "nbformat_minor": 2
}
