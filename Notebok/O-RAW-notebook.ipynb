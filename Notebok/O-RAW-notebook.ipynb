{
 "cells": [
  {
   "cell_type": "markdown",
   "metadata": {},
   "source": [
    "# Ontology-guided Radiomics Analysis Workflow (O-RAW) verison 2.2\n",
    "We propose an open-source Ontology-guided Radiomics Analysis Workflow (O-RAW) to address the above challenges in the following manner: (i) distributing a free and open-source software package for radiomics analysis, (ii) deploying a standard lexicon to uniquely describe features in common usage and (iii) provide methods to publish radiomic features as a semantically-interoperable data graph object complying to FAIR (Findable Accessible Interoperable Reusable) data principles. \n",
    "\n",
    "## This repository accompanies the publication 'Technical Note: Ontology-guided Radiomics Analysis Workflow (O-RAW)'\n",
    "**If you publish any work which uses this package, please cite the following publication:**\n",
    "*Shi, Zhenwei, Alberto Traverso, Johan van Soest, Andre Dekker, and Leonard Wee. \"Ontology‐guided Radiomics Analysis Workflow (O‐RAW).\" Medical Physics (2019). https://aapm.onlinelibrary.wiley.com/doi/pdf/10.1002/mp.13844*"
   ]
  },
  {
   "cell_type": "code",
   "execution_count": 5,
   "metadata": {},
   "outputs": [
    {
     "data": {
      "text/plain": [
       "\"\\n###############################\\n@author: zhenwei.shi, Maastro##\\n###############################\\n\\nUsage for a given case: python HelloORAW.py \\n\\nRead parameters:\\n\\nroi = 'all' (calculate radiomics on all ROIs)\\nroi = '[Gg][Tt][Vv]' (calculate radiomics on a specific ROI or a type of ROI)\\nexport_format = 'csv' OR 'rdf'\\nexport_name = 'ORAW_test'\\nwalk_dir = './data/CT' (directory of your data)\\n######################################\\n\""
      ]
     },
     "execution_count": 5,
     "metadata": {},
     "output_type": "execute_result"
    }
   ],
   "source": [
    "'''\n",
    "###############################\n",
    "@author: zhenwei.shi, Maastro##\n",
    "###############################\n",
    "\n",
    "Usage for a given case: python HelloORAW.py \n",
    "\n",
    "Read parameters:\n",
    "\n",
    "roi = 'all' (calculate radiomics on all ROIs)\n",
    "roi = '[Gg][Tt][Vv]' (calculate radiomics on a specific ROI or a type of ROI)\n",
    "export_format = 'csv' OR 'rdf'\n",
    "export_name = 'ORAW_test'\n",
    "walk_dir = './data/CT' (directory of your data)\n",
    "######################################\n",
    "'''"
   ]
  },
  {
   "cell_type": "code",
   "execution_count": 9,
   "metadata": {},
   "outputs": [],
   "source": [
    "import sys\n",
    "sys.path.append('../')"
   ]
  },
  {
   "cell_type": "code",
   "execution_count": 15,
   "metadata": {},
   "outputs": [],
   "source": [
    "from __future__ import print_function\n",
    "\n",
    "from time import process_time\n",
    "import os,yaml\n",
    "import ORAW\n",
    "import glob\n",
    "import shutil\n",
    "import pandas as pd\n",
    "from DicomDatabase import DicomDatabase"
   ]
  },
  {
   "cell_type": "code",
   "execution_count": 16,
   "metadata": {},
   "outputs": [],
   "source": [
    "#-------------------------USER-------------------------------\n",
    "#----------------O-RAW initial parameters -------------------\n",
    "# roi = 'all'\n",
    "roi = '[Gg][Tt][Vv]'  \n",
    "export_format = 'csv'\n",
    "# export_format = 'rdf'\n",
    "export_name = 'ORAW_'\n",
    "walk_dir = '../data/CT'"
   ]
  },
  {
   "cell_type": "code",
   "execution_count": 17,
   "metadata": {},
   "outputs": [
    {
     "name": "stdout",
     "output_type": "stream",
     "text": [
      "staring with Patient LUNG1-002\n",
      "Starting with RTStruct 1.3.6.1.4.1.40744.29.58200769026013337550235117523425780982\n",
      "Generating binary mask based on ROI: GTV-1 ......\n"
     ]
    },
    {
     "name": "stderr",
     "output_type": "stream",
     "text": [
      "GLCM is symmetrical, therefore Sum Average = 2 * Joint Average, only 1 needs to be calculated\n"
     ]
    },
    {
     "name": "stdout",
     "output_type": "stream",
     "text": [
      "LUNG1-002 GTV-1\n",
      "Done for struct 1.3.6.1.4.1.40744.29.58200769026013337550235117523425780982 of patient LUNG1-002\n"
     ]
    }
   ],
   "source": [
    "#-----------------create tmp CT/STRUCT directories-----------\n",
    "CTWorkingDir = \"../CTFolder\"\n",
    "STRUCTWorkingDir = \"../StructFolder\"\n",
    "\n",
    "if not os.path.exists(CTWorkingDir):\n",
    "  os.makedirs(CTWorkingDir)\n",
    "if not os.path.exists(STRUCTWorkingDir):\n",
    "  os.makedirs(STRUCTWorkingDir)\n",
    "\n",
    "# -----------------------------------------------------------\n",
    "# initialize dicom DB\n",
    "dicomDb = DicomDatabase()\n",
    "# walk over all files in folder, and index in the database\n",
    "dicomDb.parseFolder(walk_dir)\n",
    "\n",
    "excludeStructRegex = \"(Patient.*|BODY.*|Body.*|NS.*|Couch.*)\"\n",
    "if os.environ.get(\"EXCLUDE_STRUCTURE_REGEX\") is not None:\n",
    "    excludeStructRegex = os.environ.get(\"EXCLUDE_STRUCTURE_REGEX\")\n",
    "# ----------------------------------------------------\n",
    "if export_format == 'rdf':\n",
    "    exportDir = '../RFstore/Turtle_output' # export format is RDF\n",
    "else:\n",
    "    exportDir = '../RFstore/CSV_output' # export format is CSV\n",
    "# loop over patients\n",
    "for ptid in dicomDb.getPatientIds():\n",
    "    print(\"staring with Patient %s\" % (ptid))\n",
    "    # get patient by ID\n",
    "    myPatient = dicomDb.getPatient(ptid)\n",
    "    # loop over RTStructs of this patient\n",
    "    for myStructUID in myPatient.getRTStructs():\n",
    "        print(\"Starting with RTStruct %s\" % myStructUID)\n",
    "        # Get RTSTRUCT by SOP Instance UID\n",
    "        myStruct = myPatient.getRTStruct(myStructUID)\n",
    "        # Get CT which is referenced by this RTStruct, and is linked to the same patient\n",
    "        # mind that this can be None, as only a struct, without corresponding CT scan is found\n",
    "        myCT = myPatient.getCTForRTStruct(myStruct)\n",
    "\n",
    "        # check if the temperal CT/STRUCT folder is empty\n",
    "        if not (os.listdir(CTWorkingDir)==[] and os.listdir(STRUCTWorkingDir)==[]):\n",
    "          ct_files = glob.glob(os.path.join(CTWorkingDir,'*'))\n",
    "          for f in ct_files:\n",
    "            os.remove(f)\n",
    "\n",
    "          struct_files = glob.glob(os.path.join(STRUCTWorkingDir,'*'))\n",
    "          for f in struct_files:\n",
    "            os.remove(f)\n",
    "        \n",
    "        #only show if we have both RTStruct and CT\n",
    "        if myCT is not None:\n",
    "            # copy RTSTRUCT file to tmp folder as 'struct.dcm'\n",
    "            shutil.copy2(myStruct.getFileLocation(),os.path.join(STRUCTWorkingDir,'struct.dcm'))\n",
    "            # copy DICOM slices to tmp folder as 'struct.dcm'\n",
    "            slices = myCT.getSlices()\n",
    "            for i in range(len(slices)):\n",
    "                shutil.copy2(slices[i],os.path.join(CTWorkingDir,str(i)+\".dcm\"))\n",
    "            #graph = ORAW_Docker.executeORAWbatch_all([ptid],roi,myStructUID,exportDir,export_format,export_name,[CTWorkingDir],[STRUCTWorkingDir],excludeStructRegex)\n",
    "            if roi == 'all':\n",
    "                ORAW.executeORAWbatch_all([ptid],roi,myStructUID,exportDir,export_format,export_name,[CTWorkingDir],[STRUCTWorkingDir],excludeStructRegex)\n",
    "            else:\n",
    "                ORAW.executeORAWbatch_roi([ptid],roi,myStructUID,exportDir,export_format,export_name,[CTWorkingDir],[STRUCTWorkingDir],excludeStructRegex)\n",
    "            #####################\n",
    "        print(\"Done for struct %s of patient %s\" % (myStructUID, ptid))"
   ]
  },
  {
   "cell_type": "code",
   "execution_count": null,
   "metadata": {},
   "outputs": [],
   "source": []
  }
 ],
 "metadata": {
  "kernelspec": {
   "display_name": "Python 3",
   "language": "python",
   "name": "python3"
  },
  "language_info": {
   "codemirror_mode": {
    "name": "ipython",
    "version": 3
   },
   "file_extension": ".py",
   "mimetype": "text/x-python",
   "name": "python",
   "nbconvert_exporter": "python",
   "pygments_lexer": "ipython3",
   "version": "3.7.3"
  }
 },
 "nbformat": 4,
 "nbformat_minor": 2
}
